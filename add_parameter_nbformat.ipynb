{
 "cells": [
  {
   "cell_type": "code",
   "execution_count": 62,
   "id": "6e82b422",
   "metadata": {},
   "outputs": [],
   "source": [
    "import nbformat as nb"
   ]
  },
  {
   "cell_type": "code",
   "execution_count": 64,
   "id": "04cd26b1",
   "metadata": {},
   "outputs": [
    {
     "data": {
      "text/html": [
       "<div>\n",
       "<style scoped>\n",
       "    .dataframe tbody tr th:only-of-type {\n",
       "        vertical-align: middle;\n",
       "    }\n",
       "\n",
       "    .dataframe tbody tr th {\n",
       "        vertical-align: top;\n",
       "    }\n",
       "\n",
       "    .dataframe thead th {\n",
       "        text-align: right;\n",
       "    }\n",
       "</style>\n",
       "<table border=\"1\" class=\"dataframe\">\n",
       "  <thead>\n",
       "    <tr style=\"text-align: right;\">\n",
       "      <th></th>\n",
       "      <th>param1</th>\n",
       "      <th>param2</th>\n",
       "    </tr>\n",
       "  </thead>\n",
       "  <tbody>\n",
       "    <tr>\n",
       "      <th>0</th>\n",
       "      <td>1</td>\n",
       "      <td>5</td>\n",
       "    </tr>\n",
       "    <tr>\n",
       "      <th>1</th>\n",
       "      <td>2</td>\n",
       "      <td>6</td>\n",
       "    </tr>\n",
       "    <tr>\n",
       "      <th>2</th>\n",
       "      <td>3</td>\n",
       "      <td>7</td>\n",
       "    </tr>\n",
       "  </tbody>\n",
       "</table>\n",
       "</div>"
      ],
      "text/plain": [
       "   param1  param2\n",
       "0       1       5\n",
       "1       2       6\n",
       "2       3       7"
      ]
     },
     "execution_count": 64,
     "metadata": {},
     "output_type": "execute_result"
    }
   ],
   "source": [
    "import pandas as pd\n",
    "df = pd.DataFrame({\n",
    "    'param1': [1, 2, 3],\n",
    "    'param2': [5, 6, 7]\n",
    "    \n",
    "})\n",
    "df"
   ]
  },
  {
   "cell_type": "code",
   "execution_count": 65,
   "id": "643c6555",
   "metadata": {},
   "outputs": [
    {
     "data": {
      "text/html": [
       "<div>\n",
       "<style scoped>\n",
       "    .dataframe tbody tr th:only-of-type {\n",
       "        vertical-align: middle;\n",
       "    }\n",
       "\n",
       "    .dataframe tbody tr th {\n",
       "        vertical-align: top;\n",
       "    }\n",
       "\n",
       "    .dataframe thead th {\n",
       "        text-align: right;\n",
       "    }\n",
       "</style>\n",
       "<table border=\"1\" class=\"dataframe\">\n",
       "  <thead>\n",
       "    <tr style=\"text-align: right;\">\n",
       "      <th></th>\n",
       "      <th>0</th>\n",
       "      <th>1</th>\n",
       "      <th>2</th>\n",
       "    </tr>\n",
       "  </thead>\n",
       "  <tbody>\n",
       "    <tr>\n",
       "      <th>param1</th>\n",
       "      <td>1</td>\n",
       "      <td>2</td>\n",
       "      <td>3</td>\n",
       "    </tr>\n",
       "    <tr>\n",
       "      <th>param2</th>\n",
       "      <td>5</td>\n",
       "      <td>6</td>\n",
       "      <td>7</td>\n",
       "    </tr>\n",
       "  </tbody>\n",
       "</table>\n",
       "</div>"
      ],
      "text/plain": [
       "        0  1  2\n",
       "param1  1  2  3\n",
       "param2  5  6  7"
      ]
     },
     "execution_count": 65,
     "metadata": {},
     "output_type": "execute_result"
    }
   ],
   "source": [
    "df.T"
   ]
  },
  {
   "cell_type": "code",
   "execution_count": 66,
   "id": "1ac284c6",
   "metadata": {},
   "outputs": [
    {
     "data": {
      "text/plain": [
       "(Index(['param1', 'param2'], dtype='object'), array([2, 6], dtype=int64))"
      ]
     },
     "execution_count": 66,
     "metadata": {},
     "output_type": "execute_result"
    }
   ],
   "source": [
    "df.T[1].index, df.T[1].values"
   ]
  },
  {
   "cell_type": "code",
   "execution_count": 67,
   "id": "9111e3f7",
   "metadata": {},
   "outputs": [
    {
     "name": "stdout",
     "output_type": "stream",
     "text": [
      "Text:\n",
      "param1 = 2\n",
      "param2 = 6\n",
      "\n"
     ]
    }
   ],
   "source": [
    "counter = 0\n",
    "insert_text = ''\n",
    "for i, j in zip(df.T[1].index, df.T[1].values):\n",
    "    insert_text = insert_text + f'{i} = {j}\\n'\n",
    "print(f'Text:\\n{insert_text}')\n",
    "#     print(counter)\n",
    "# counter += 1"
   ]
  },
  {
   "cell_type": "code",
   "execution_count": 73,
   "id": "cd7825bf",
   "metadata": {},
   "outputs": [
    {
     "name": "stdout",
     "output_type": "stream",
     "text": [
      "Text:\n",
      "param1 = 1\n",
      "param2 = 5\n",
      "\n",
      "Text:\n",
      "param1 = 2\n",
      "param2 = 6\n",
      "\n",
      "Text:\n",
      "param1 = 3\n",
      "param2 = 7\n",
      "\n"
     ]
    }
   ],
   "source": [
    "for k in df.T.columns:\n",
    "    insert_text = ''\n",
    "    for i, j in zip(df.T[k].index, df.T[k].values):\n",
    "        insert_text = insert_text + f'{i} = {j}\\n'\n",
    "    print(f'Text:\\n{insert_text}')\n",
    "    notebook = nb.read('test.ipynb', as_version=4)\n",
    "    new_cell = nb.v4.new_code_cell(insert_text)\n",
    "    notebook['cells'].insert(0, new_cell)\n",
    "    nb.write(notebook, f'test_{k}.ipynb')\n",
    "    del temp"
   ]
  },
  {
   "cell_type": "code",
   "execution_count": null,
   "id": "c5a1e2f2",
   "metadata": {},
   "outputs": [],
   "source": []
  }
 ],
 "metadata": {
  "kernelspec": {
   "display_name": "Python 3 (ipykernel)",
   "language": "python",
   "name": "python3"
  },
  "language_info": {
   "codemirror_mode": {
    "name": "ipython",
    "version": 3
   },
   "file_extension": ".py",
   "mimetype": "text/x-python",
   "name": "python",
   "nbconvert_exporter": "python",
   "pygments_lexer": "ipython3",
   "version": "3.10.5"
  },
  "toc": {
   "base_numbering": 1,
   "nav_menu": {},
   "number_sections": true,
   "sideBar": true,
   "skip_h1_title": false,
   "title_cell": "Table of Contents",
   "title_sidebar": "Contents",
   "toc_cell": false,
   "toc_position": {},
   "toc_section_display": true,
   "toc_window_display": false
  }
 },
 "nbformat": 4,
 "nbformat_minor": 5
}
